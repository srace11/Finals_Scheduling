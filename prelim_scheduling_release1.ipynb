{
 "cells": [
  {
   "cell_type": "markdown",
   "metadata": {},
   "source": [
    "## Prelim Scheduling\n",
    "\n",
    "In a previous lab you had to come up with ideas for a model that solves the problem of scheduling prelims to day,time and rooms. Now you will be given a slightly modified version of the model that was used to schedule Cornell Spring 2021 prelims, complete the code that is provided and solve the model using Google OR-Tools."
   ]
  },
  {
   "cell_type": "code",
   "execution_count": 1,
   "metadata": {
    "scrolled": true
   },
   "outputs": [],
   "source": [
    "# imports the modules we use throughout the notebook\n",
    "import numpy as np\n",
    "import pandas as pd\n",
    "import itertools\n",
    "from ortools.linear_solver import pywraplp\n",
    "\n",
    "input_data_path = './Data/'"
   ]
  },
  {
   "cell_type": "markdown",
   "metadata": {},
   "source": [
    "We first go over the data that we will be using(the cells that go over the data are identical to the ones used in the previous lab, as the data is the same). Courses can request to have prelims, and can express their preferences as to when the exams will be scheduled by giving $3$ prefered dates on which they would like to have the exam. For simplicity, we assume that all $3$ dates are always present. \n",
    "<br> <br>\n",
    "Formally, we have a set of prelim exams, $I=\\{1,\\ldots,M\\}$. Each prelim  $i\\in I$ has\n",
    "- A unique exam id, which will be denoted by $i \\in I$.\n",
    "- A class name, which is the name of the course associated with the prelim.\n",
    "- The academic organization(ie CS, ORIE, MATH), that the class belongs to.\n",
    "-  Enrollment size $s_i\\in S \\in \\mathbb{N}$, which is the number of students that have enrolled in the class.\n",
    "-  The modality of the prelim, which can be Online or In person. \n",
    "-  A 1st, 2nd and 3rd preferred date. We want to have the exam on one of those dates, in that order of preference. Let us denote them as $p_{i,n}, $ for $i \\in I$ and $n = 1,2,3$ and $P_i = \\{p_{i,1},p_{i,2},p_{i,3}\\}$.\n",
    "\n",
    "In the cell bellow, we read the file containing all of the prelims to be scheduled, along with the information described above. "
   ]
  },
  {
   "cell_type": "code",
   "execution_count": 3,
   "metadata": {},
   "outputs": [
    {
     "data": {
      "text/html": [
       "<div>\n",
       "<style scoped>\n",
       "    .dataframe tbody tr th:only-of-type {\n",
       "        vertical-align: middle;\n",
       "    }\n",
       "\n",
       "    .dataframe tbody tr th {\n",
       "        vertical-align: top;\n",
       "    }\n",
       "\n",
       "    .dataframe thead th {\n",
       "        text-align: right;\n",
       "    }\n",
       "</style>\n",
       "<table border=\"1\" class=\"dataframe\">\n",
       "  <thead>\n",
       "    <tr style=\"text-align: right;\">\n",
       "      <th></th>\n",
       "      <th>course</th>\n",
       "      <th>acadorg</th>\n",
       "      <th>enrollment</th>\n",
       "      <th>modality</th>\n",
       "      <th>prefdate</th>\n",
       "      <th>prefdate2</th>\n",
       "      <th>prefdate3</th>\n",
       "    </tr>\n",
       "    <tr>\n",
       "      <th>exam_id</th>\n",
       "      <th></th>\n",
       "      <th></th>\n",
       "      <th></th>\n",
       "      <th></th>\n",
       "      <th></th>\n",
       "      <th></th>\n",
       "      <th></th>\n",
       "    </tr>\n",
       "  </thead>\n",
       "  <tbody>\n",
       "    <tr>\n",
       "      <th>1-AEM-2210-LEC-2634167-1</th>\n",
       "      <td>AEM 2210</td>\n",
       "      <td>AEM</td>\n",
       "      <td>0</td>\n",
       "      <td>Online</td>\n",
       "      <td>2021-03-18</td>\n",
       "      <td>2021-03-16</td>\n",
       "      <td>2021-03-23</td>\n",
       "    </tr>\n",
       "    <tr>\n",
       "      <th>1-AEM-2210-LEC-2634167-2</th>\n",
       "      <td>AEM 2210</td>\n",
       "      <td>AEM</td>\n",
       "      <td>0</td>\n",
       "      <td>Online</td>\n",
       "      <td>2021-04-15</td>\n",
       "      <td>2021-04-13</td>\n",
       "      <td>2021-04-20</td>\n",
       "    </tr>\n",
       "    <tr>\n",
       "      <th>1-AEM-2225-LEC-2634167-1</th>\n",
       "      <td>AEM 2225</td>\n",
       "      <td>AEM</td>\n",
       "      <td>0</td>\n",
       "      <td>Online</td>\n",
       "      <td>2021-03-23</td>\n",
       "      <td>2021-03-18</td>\n",
       "      <td>2021-03-25</td>\n",
       "    </tr>\n",
       "    <tr>\n",
       "      <th>1-AEM-2225-LEC-2634167-2</th>\n",
       "      <td>AEM 2225</td>\n",
       "      <td>AEM</td>\n",
       "      <td>0</td>\n",
       "      <td>Online</td>\n",
       "      <td>2021-04-20</td>\n",
       "      <td>2021-04-15</td>\n",
       "      <td>2021-04-22</td>\n",
       "    </tr>\n",
       "    <tr>\n",
       "      <th>1-AEM-2240-LEC-3778494-1</th>\n",
       "      <td>AEM 2240</td>\n",
       "      <td>AEM</td>\n",
       "      <td>270</td>\n",
       "      <td>In person</td>\n",
       "      <td>2021-03-16</td>\n",
       "      <td>2021-03-04</td>\n",
       "      <td>2021-03-18</td>\n",
       "    </tr>\n",
       "    <tr>\n",
       "      <th>...</th>\n",
       "      <td>...</td>\n",
       "      <td>...</td>\n",
       "      <td>...</td>\n",
       "      <td>...</td>\n",
       "      <td>...</td>\n",
       "      <td>...</td>\n",
       "      <td>...</td>\n",
       "    </tr>\n",
       "    <tr>\n",
       "      <th>1-STSCI-1380-LEC-1757307-1</th>\n",
       "      <td>STSCI 1380</td>\n",
       "      <td>STSCI</td>\n",
       "      <td>64</td>\n",
       "      <td>In person</td>\n",
       "      <td>2021-03-16</td>\n",
       "      <td>2021-03-18</td>\n",
       "      <td>2021-03-04</td>\n",
       "    </tr>\n",
       "    <tr>\n",
       "      <th>1-STSCI-1380-LEC-1757307-2</th>\n",
       "      <td>STSCI 1380</td>\n",
       "      <td>STSCI</td>\n",
       "      <td>64</td>\n",
       "      <td>In person</td>\n",
       "      <td>2021-04-20</td>\n",
       "      <td>2021-04-22</td>\n",
       "      <td>2021-04-15</td>\n",
       "    </tr>\n",
       "    <tr>\n",
       "      <th>1-STSCI-2150-LEC-1319792-1</th>\n",
       "      <td>STSCI 2150</td>\n",
       "      <td>STSCI</td>\n",
       "      <td>140</td>\n",
       "      <td>In person</td>\n",
       "      <td>2021-03-18</td>\n",
       "      <td>2021-03-16</td>\n",
       "      <td>2021-03-23</td>\n",
       "    </tr>\n",
       "    <tr>\n",
       "      <th>1-STSCI-2150-LEC-1319792-2</th>\n",
       "      <td>STSCI 2150</td>\n",
       "      <td>STSCI</td>\n",
       "      <td>0</td>\n",
       "      <td>Online</td>\n",
       "      <td>2021-04-08</td>\n",
       "      <td>2021-04-06</td>\n",
       "      <td>2021-04-13</td>\n",
       "    </tr>\n",
       "    <tr>\n",
       "      <th>1-STSCI-2150-LEC-1319792-3</th>\n",
       "      <td>STSCI 2150</td>\n",
       "      <td>STSCI</td>\n",
       "      <td>0</td>\n",
       "      <td>Online</td>\n",
       "      <td>2021-04-29</td>\n",
       "      <td>2021-05-04</td>\n",
       "      <td>2021-04-22</td>\n",
       "    </tr>\n",
       "  </tbody>\n",
       "</table>\n",
       "<p>230 rows × 7 columns</p>\n",
       "</div>"
      ],
      "text/plain": [
       "                                course acadorg  enrollment   modality  \\\n",
       "exam_id                                                                 \n",
       "1-AEM-2210-LEC-2634167-1      AEM 2210     AEM           0     Online   \n",
       "1-AEM-2210-LEC-2634167-2      AEM 2210     AEM           0     Online   \n",
       "1-AEM-2225-LEC-2634167-1      AEM 2225     AEM           0     Online   \n",
       "1-AEM-2225-LEC-2634167-2      AEM 2225     AEM           0     Online   \n",
       "1-AEM-2240-LEC-3778494-1      AEM 2240     AEM         270  In person   \n",
       "...                                ...     ...         ...        ...   \n",
       "1-STSCI-1380-LEC-1757307-1  STSCI 1380   STSCI          64  In person   \n",
       "1-STSCI-1380-LEC-1757307-2  STSCI 1380   STSCI          64  In person   \n",
       "1-STSCI-2150-LEC-1319792-1  STSCI 2150   STSCI         140  In person   \n",
       "1-STSCI-2150-LEC-1319792-2  STSCI 2150   STSCI           0     Online   \n",
       "1-STSCI-2150-LEC-1319792-3  STSCI 2150   STSCI           0     Online   \n",
       "\n",
       "                              prefdate   prefdate2   prefdate3  \n",
       "exam_id                                                         \n",
       "1-AEM-2210-LEC-2634167-1    2021-03-18  2021-03-16  2021-03-23  \n",
       "1-AEM-2210-LEC-2634167-2    2021-04-15  2021-04-13  2021-04-20  \n",
       "1-AEM-2225-LEC-2634167-1    2021-03-23  2021-03-18  2021-03-25  \n",
       "1-AEM-2225-LEC-2634167-2    2021-04-20  2021-04-15  2021-04-22  \n",
       "1-AEM-2240-LEC-3778494-1    2021-03-16  2021-03-04  2021-03-18  \n",
       "...                                ...         ...         ...  \n",
       "1-STSCI-1380-LEC-1757307-1  2021-03-16  2021-03-18  2021-03-04  \n",
       "1-STSCI-1380-LEC-1757307-2  2021-04-20  2021-04-22  2021-04-15  \n",
       "1-STSCI-2150-LEC-1319792-1  2021-03-18  2021-03-16  2021-03-23  \n",
       "1-STSCI-2150-LEC-1319792-2  2021-04-08  2021-04-06  2021-04-13  \n",
       "1-STSCI-2150-LEC-1319792-3  2021-04-29  2021-05-04  2021-04-22  \n",
       "\n",
       "[230 rows x 7 columns]"
      ]
     },
     "execution_count": 3,
     "metadata": {},
     "output_type": "execute_result"
    }
   ],
   "source": [
    "# df with prelim exams requested\n",
    "exams = (pd.read_csv('prelim_exams.csv', index_col = 'exam_id'))\n",
    "exams.loc[exams.modality == 'Online','enrollment'] = 0\n",
    "exams"
   ]
  },
  {
   "cell_type": "markdown",
   "metadata": {},
   "source": [
    "We are given a set of days on which the exams have to be scheduled. Every day has $K$  different times that an exam can start on. \n",
    "So let $D$ be the set of days of the semester on which we will schedule prelims, and $K$ be the set of starting times for exams on each day.\n",
    "<br><br>\n",
    "You can assume that the prefered days that the courses gave in the data always fall in $D$."
   ]
  },
  {
   "cell_type": "code",
   "execution_count": 4,
   "metadata": {},
   "outputs": [
    {
     "data": {
      "text/plain": [
       "['2021-02-25',\n",
       " '2021-03-02',\n",
       " '2021-03-04',\n",
       " '2021-03-16',\n",
       " '2021-03-18',\n",
       " '2021-03-23',\n",
       " '2021-03-25',\n",
       " '2021-03-30',\n",
       " '2021-04-01',\n",
       " '2021-04-06',\n",
       " '2021-04-08',\n",
       " '2021-04-13',\n",
       " '2021-04-15',\n",
       " '2021-04-20',\n",
       " '2021-04-22',\n",
       " '2021-04-29',\n",
       " '2021-05-04',\n",
       " '2021-05-06',\n",
       " '2021-05-11',\n",
       " '2021-05-13']"
      ]
     },
     "execution_count": 4,
     "metadata": {},
     "output_type": "execute_result"
    }
   ],
   "source": [
    "# reads the available exam dates\n",
    "exam_dates = (pd.read_csv('avail_prel_dates.csv')).exam_dates.tolist()\n",
    "# number of slots per day\n",
    "K = 2\n",
    "exam_dates"
   ]
  },
  {
   "cell_type": "markdown",
   "metadata": {},
   "source": [
    "For the exams that will take place in person, we are given a set of rooms $N$, where we can schedule the exams. Each room $r\\in N$, has capacity $s_r$, which is the numbers of seats available in that room, accounting for some empty seats due to Covid restriction. There is also a file containing the distance between buildings, so in the case where a prelim is assigned multiple rooms, we can try to limit how spread out they are."
   ]
  },
  {
   "cell_type": "code",
   "execution_count": 5,
   "metadata": {},
   "outputs": [
    {
     "data": {
      "text/html": [
       "<div>\n",
       "<style scoped>\n",
       "    .dataframe tbody tr th:only-of-type {\n",
       "        vertical-align: middle;\n",
       "    }\n",
       "\n",
       "    .dataframe tbody tr th {\n",
       "        vertical-align: top;\n",
       "    }\n",
       "\n",
       "    .dataframe thead th {\n",
       "        text-align: right;\n",
       "    }\n",
       "</style>\n",
       "<table border=\"1\" class=\"dataframe\">\n",
       "  <thead>\n",
       "    <tr style=\"text-align: right;\">\n",
       "      <th></th>\n",
       "      <th>capacity</th>\n",
       "      <th>building</th>\n",
       "    </tr>\n",
       "    <tr>\n",
       "      <th>room_id</th>\n",
       "      <th></th>\n",
       "      <th></th>\n",
       "    </tr>\n",
       "  </thead>\n",
       "  <tbody>\n",
       "    <tr>\n",
       "      <th>Morrison Hall-342</th>\n",
       "      <td>9</td>\n",
       "      <td>Morrison Hall</td>\n",
       "    </tr>\n",
       "    <tr>\n",
       "      <th>Physical Sciences Building-401</th>\n",
       "      <td>9</td>\n",
       "      <td>Physical Sciences Building</td>\n",
       "    </tr>\n",
       "    <tr>\n",
       "      <th>Rockefeller Hall-102</th>\n",
       "      <td>8</td>\n",
       "      <td>Rockefeller Hall</td>\n",
       "    </tr>\n",
       "    <tr>\n",
       "      <th>Olin Hall-128</th>\n",
       "      <td>9</td>\n",
       "      <td>Olin Hall</td>\n",
       "    </tr>\n",
       "    <tr>\n",
       "      <th>Baker Laboratory-G02</th>\n",
       "      <td>8</td>\n",
       "      <td>Baker Laboratory</td>\n",
       "    </tr>\n",
       "    <tr>\n",
       "      <th>...</th>\n",
       "      <td>...</td>\n",
       "      <td>...</td>\n",
       "    </tr>\n",
       "    <tr>\n",
       "      <th>Sibley Hall-235</th>\n",
       "      <td>65</td>\n",
       "      <td>Sibley Hall</td>\n",
       "    </tr>\n",
       "    <tr>\n",
       "      <th>Statler Hall Auditorium-185</th>\n",
       "      <td>76</td>\n",
       "      <td>Statler Hall Auditorium</td>\n",
       "    </tr>\n",
       "    <tr>\n",
       "      <th>Schwartz Ctr Performing Arts-111</th>\n",
       "      <td>78</td>\n",
       "      <td>Schwartz Ctr Performing Arts</td>\n",
       "    </tr>\n",
       "    <tr>\n",
       "      <th>Bailey Hall-101</th>\n",
       "      <td>130</td>\n",
       "      <td>Bailey Hall</td>\n",
       "    </tr>\n",
       "    <tr>\n",
       "      <th>Olin Hall-255</th>\n",
       "      <td>25</td>\n",
       "      <td>Olin Hall</td>\n",
       "    </tr>\n",
       "  </tbody>\n",
       "</table>\n",
       "<p>90 rows × 2 columns</p>\n",
       "</div>"
      ],
      "text/plain": [
       "                                  capacity                      building\n",
       "room_id                                                                 \n",
       "Morrison Hall-342                        9                 Morrison Hall\n",
       "Physical Sciences Building-401           9    Physical Sciences Building\n",
       "Rockefeller Hall-102                     8              Rockefeller Hall\n",
       "Olin Hall-128                            9                     Olin Hall\n",
       "Baker Laboratory-G02                     8              Baker Laboratory\n",
       "...                                    ...                           ...\n",
       "Sibley Hall-235                         65                   Sibley Hall\n",
       "Statler Hall Auditorium-185             76       Statler Hall Auditorium\n",
       "Schwartz Ctr Performing Arts-111        78  Schwartz Ctr Performing Arts\n",
       "Bailey Hall-101                        130                   Bailey Hall\n",
       "Olin Hall-255                           25                     Olin Hall\n",
       "\n",
       "[90 rows x 2 columns]"
      ]
     },
     "metadata": {},
     "output_type": "display_data"
    },
    {
     "data": {
      "text/html": [
       "<div>\n",
       "<style scoped>\n",
       "    .dataframe tbody tr th:only-of-type {\n",
       "        vertical-align: middle;\n",
       "    }\n",
       "\n",
       "    .dataframe tbody tr th {\n",
       "        vertical-align: top;\n",
       "    }\n",
       "\n",
       "    .dataframe thead th {\n",
       "        text-align: right;\n",
       "    }\n",
       "</style>\n",
       "<table border=\"1\" class=\"dataframe\">\n",
       "  <thead>\n",
       "    <tr style=\"text-align: right;\">\n",
       "      <th></th>\n",
       "      <th>Morrison Hall</th>\n",
       "      <th>Physical Sciences Building</th>\n",
       "      <th>Rockefeller Hall</th>\n",
       "      <th>Olin Hall</th>\n",
       "      <th>Baker Laboratory</th>\n",
       "      <th>White Hall</th>\n",
       "      <th>Weill Hall</th>\n",
       "      <th>Riley-Robb Hall</th>\n",
       "      <th>Plant Science Building</th>\n",
       "      <th>Warren Hall</th>\n",
       "      <th>...</th>\n",
       "      <th>Kennedy Hall</th>\n",
       "      <th>Milstein Hall</th>\n",
       "      <th>Phillips Hall</th>\n",
       "      <th>Biotechnology</th>\n",
       "      <th>Klarman Hall</th>\n",
       "      <th>Uris Library</th>\n",
       "      <th>Anabel Taylor Hall</th>\n",
       "      <th>Sibley Hall</th>\n",
       "      <th>Schwartz Ctr Performing Arts</th>\n",
       "      <th>Bailey Hall</th>\n",
       "    </tr>\n",
       "  </thead>\n",
       "  <tbody>\n",
       "    <tr>\n",
       "      <th>Morrison Hall</th>\n",
       "      <td>0.000000</td>\n",
       "      <td>0.684845</td>\n",
       "      <td>0.664750</td>\n",
       "      <td>0.773209</td>\n",
       "      <td>0.692658</td>\n",
       "      <td>0.867034</td>\n",
       "      <td>0.420573</td>\n",
       "      <td>0.102957</td>\n",
       "      <td>0.416633</td>\n",
       "      <td>0.445776</td>\n",
       "      <td>...</td>\n",
       "      <td>0.525352</td>\n",
       "      <td>0.804689</td>\n",
       "      <td>0.660057</td>\n",
       "      <td>0.464509</td>\n",
       "      <td>0.725549</td>\n",
       "      <td>0.828247</td>\n",
       "      <td>0.837567</td>\n",
       "      <td>0.819629</td>\n",
       "      <td>0.889184</td>\n",
       "      <td>0.586574</td>\n",
       "    </tr>\n",
       "    <tr>\n",
       "      <th>Physical Sciences Building</th>\n",
       "      <td>0.684845</td>\n",
       "      <td>0.000000</td>\n",
       "      <td>0.062251</td>\n",
       "      <td>0.338360</td>\n",
       "      <td>0.020750</td>\n",
       "      <td>0.185802</td>\n",
       "      <td>0.302028</td>\n",
       "      <td>0.610824</td>\n",
       "      <td>0.268815</td>\n",
       "      <td>0.244710</td>\n",
       "      <td>...</td>\n",
       "      <td>0.178271</td>\n",
       "      <td>0.128547</td>\n",
       "      <td>0.373643</td>\n",
       "      <td>0.297855</td>\n",
       "      <td>0.082539</td>\n",
       "      <td>0.234214</td>\n",
       "      <td>0.396508</td>\n",
       "      <td>0.136246</td>\n",
       "      <td>0.559373</td>\n",
       "      <td>0.099358</td>\n",
       "    </tr>\n",
       "    <tr>\n",
       "      <th>Rockefeller Hall</th>\n",
       "      <td>0.664750</td>\n",
       "      <td>0.062251</td>\n",
       "      <td>0.000000</td>\n",
       "      <td>0.282155</td>\n",
       "      <td>0.083001</td>\n",
       "      <td>0.204554</td>\n",
       "      <td>0.263177</td>\n",
       "      <td>0.584533</td>\n",
       "      <td>0.249718</td>\n",
       "      <td>0.240273</td>\n",
       "      <td>...</td>\n",
       "      <td>0.141969</td>\n",
       "      <td>0.177748</td>\n",
       "      <td>0.311421</td>\n",
       "      <td>0.249907</td>\n",
       "      <td>0.061634</td>\n",
       "      <td>0.201613</td>\n",
       "      <td>0.343565</td>\n",
       "      <td>0.176209</td>\n",
       "      <td>0.502183</td>\n",
       "      <td>0.087859</td>\n",
       "    </tr>\n",
       "    <tr>\n",
       "      <th>Olin Hall</th>\n",
       "      <td>0.773209</td>\n",
       "      <td>0.338360</td>\n",
       "      <td>0.282155</td>\n",
       "      <td>0.000000</td>\n",
       "      <td>0.357541</td>\n",
       "      <td>0.342742</td>\n",
       "      <td>0.367137</td>\n",
       "      <td>0.674295</td>\n",
       "      <td>0.427648</td>\n",
       "      <td>0.455960</td>\n",
       "      <td>...</td>\n",
       "      <td>0.320362</td>\n",
       "      <td>0.403243</td>\n",
       "      <td>0.137407</td>\n",
       "      <td>0.313952</td>\n",
       "      <td>0.265707</td>\n",
       "      <td>0.173671</td>\n",
       "      <td>0.070338</td>\n",
       "      <td>0.380729</td>\n",
       "      <td>0.221176</td>\n",
       "      <td>0.342415</td>\n",
       "    </tr>\n",
       "    <tr>\n",
       "      <th>Baker Laboratory</th>\n",
       "      <td>0.692658</td>\n",
       "      <td>0.020750</td>\n",
       "      <td>0.083001</td>\n",
       "      <td>0.357541</td>\n",
       "      <td>0.000000</td>\n",
       "      <td>0.183860</td>\n",
       "      <td>0.316642</td>\n",
       "      <td>0.620729</td>\n",
       "      <td>0.278001</td>\n",
       "      <td>0.249645</td>\n",
       "      <td>...</td>\n",
       "      <td>0.193334</td>\n",
       "      <td>0.114992</td>\n",
       "      <td>0.394386</td>\n",
       "      <td>0.314952</td>\n",
       "      <td>0.097671</td>\n",
       "      <td>0.247618</td>\n",
       "      <td>0.414730</td>\n",
       "      <td>0.126976</td>\n",
       "      <td>0.578668</td>\n",
       "      <td>0.110959</td>\n",
       "    </tr>\n",
       "    <tr>\n",
       "      <th>White Hall</th>\n",
       "      <td>0.867034</td>\n",
       "      <td>0.185802</td>\n",
       "      <td>0.204554</td>\n",
       "      <td>0.342742</td>\n",
       "      <td>0.183860</td>\n",
       "      <td>0.000000</td>\n",
       "      <td>0.466767</td>\n",
       "      <td>0.788748</td>\n",
       "      <td>0.450476</td>\n",
       "      <td>0.430382</td>\n",
       "      <td>...</td>\n",
       "      <td>0.346524</td>\n",
       "      <td>0.110969</td>\n",
       "      <td>0.437094</td>\n",
       "      <td>0.447665</td>\n",
       "      <td>0.147961</td>\n",
       "      <td>0.172918</td>\n",
       "      <td>0.373643</td>\n",
       "      <td>0.078257</td>\n",
       "      <td>0.547018</td>\n",
       "      <td>0.280990</td>\n",
       "    </tr>\n",
       "    <tr>\n",
       "      <th>Weill Hall</th>\n",
       "      <td>0.420573</td>\n",
       "      <td>0.302028</td>\n",
       "      <td>0.263177</td>\n",
       "      <td>0.367137</td>\n",
       "      <td>0.316642</td>\n",
       "      <td>0.466767</td>\n",
       "      <td>0.000000</td>\n",
       "      <td>0.330426</td>\n",
       "      <td>0.100141</td>\n",
       "      <td>0.160390</td>\n",
       "      <td>...</td>\n",
       "      <td>0.123811</td>\n",
       "      <td>0.430561</td>\n",
       "      <td>0.283389</td>\n",
       "      <td>0.057498</td>\n",
       "      <td>0.319300</td>\n",
       "      <td>0.407981</td>\n",
       "      <td>0.435951</td>\n",
       "      <td>0.435903</td>\n",
       "      <td>0.529809</td>\n",
       "      <td>0.207164</td>\n",
       "    </tr>\n",
       "    <tr>\n",
       "      <th>Riley-Robb Hall</th>\n",
       "      <td>0.102957</td>\n",
       "      <td>0.610824</td>\n",
       "      <td>0.584533</td>\n",
       "      <td>0.674295</td>\n",
       "      <td>0.620729</td>\n",
       "      <td>0.788748</td>\n",
       "      <td>0.330426</td>\n",
       "      <td>0.000000</td>\n",
       "      <td>0.342828</td>\n",
       "      <td>0.382075</td>\n",
       "      <td>...</td>\n",
       "      <td>0.442967</td>\n",
       "      <td>0.734863</td>\n",
       "      <td>0.558520</td>\n",
       "      <td>0.369820</td>\n",
       "      <td>0.644056</td>\n",
       "      <td>0.737837</td>\n",
       "      <td>0.737609</td>\n",
       "      <td>0.746932</td>\n",
       "      <td>0.786296</td>\n",
       "      <td>0.511507</td>\n",
       "    </tr>\n",
       "    <tr>\n",
       "      <th>Plant Science Building</th>\n",
       "      <td>0.416633</td>\n",
       "      <td>0.268815</td>\n",
       "      <td>0.249718</td>\n",
       "      <td>0.427648</td>\n",
       "      <td>0.278001</td>\n",
       "      <td>0.450476</td>\n",
       "      <td>0.100141</td>\n",
       "      <td>0.342828</td>\n",
       "      <td>0.000000</td>\n",
       "      <td>0.062460</td>\n",
       "      <td>...</td>\n",
       "      <td>0.118199</td>\n",
       "      <td>0.392041</td>\n",
       "      <td>0.366344</td>\n",
       "      <td>0.149587</td>\n",
       "      <td>0.311183</td>\n",
       "      <td>0.430111</td>\n",
       "      <td>0.497965</td>\n",
       "      <td>0.404531</td>\n",
       "      <td>0.610643</td>\n",
       "      <td>0.170022</td>\n",
       "    </tr>\n",
       "    <tr>\n",
       "      <th>Warren Hall</th>\n",
       "      <td>0.445776</td>\n",
       "      <td>0.244710</td>\n",
       "      <td>0.240273</td>\n",
       "      <td>0.455960</td>\n",
       "      <td>0.249645</td>\n",
       "      <td>0.430382</td>\n",
       "      <td>0.160390</td>\n",
       "      <td>0.382075</td>\n",
       "      <td>0.062460</td>\n",
       "      <td>0.000000</td>\n",
       "      <td>...</td>\n",
       "      <td>0.135632</td>\n",
       "      <td>0.359423</td>\n",
       "      <td>0.410154</td>\n",
       "      <td>0.204719</td>\n",
       "      <td>0.301198</td>\n",
       "      <td>0.434538</td>\n",
       "      <td>0.525991</td>\n",
       "      <td>0.376107</td>\n",
       "      <td>0.650349</td>\n",
       "      <td>0.153111</td>\n",
       "    </tr>\n",
       "  </tbody>\n",
       "</table>\n",
       "<p>10 rows × 46 columns</p>\n",
       "</div>"
      ],
      "text/plain": [
       "                            Morrison Hall  Physical Sciences Building  \\\n",
       "Morrison Hall                    0.000000                    0.684845   \n",
       "Physical Sciences Building       0.684845                    0.000000   \n",
       "Rockefeller Hall                 0.664750                    0.062251   \n",
       "Olin Hall                        0.773209                    0.338360   \n",
       "Baker Laboratory                 0.692658                    0.020750   \n",
       "White Hall                       0.867034                    0.185802   \n",
       "Weill Hall                       0.420573                    0.302028   \n",
       "Riley-Robb Hall                  0.102957                    0.610824   \n",
       "Plant Science Building           0.416633                    0.268815   \n",
       "Warren Hall                      0.445776                    0.244710   \n",
       "\n",
       "                            Rockefeller Hall  Olin Hall  Baker Laboratory  \\\n",
       "Morrison Hall                       0.664750   0.773209          0.692658   \n",
       "Physical Sciences Building          0.062251   0.338360          0.020750   \n",
       "Rockefeller Hall                    0.000000   0.282155          0.083001   \n",
       "Olin Hall                           0.282155   0.000000          0.357541   \n",
       "Baker Laboratory                    0.083001   0.357541          0.000000   \n",
       "White Hall                          0.204554   0.342742          0.183860   \n",
       "Weill Hall                          0.263177   0.367137          0.316642   \n",
       "Riley-Robb Hall                     0.584533   0.674295          0.620729   \n",
       "Plant Science Building              0.249718   0.427648          0.278001   \n",
       "Warren Hall                         0.240273   0.455960          0.249645   \n",
       "\n",
       "                            White Hall  Weill Hall  Riley-Robb Hall  \\\n",
       "Morrison Hall                 0.867034    0.420573         0.102957   \n",
       "Physical Sciences Building    0.185802    0.302028         0.610824   \n",
       "Rockefeller Hall              0.204554    0.263177         0.584533   \n",
       "Olin Hall                     0.342742    0.367137         0.674295   \n",
       "Baker Laboratory              0.183860    0.316642         0.620729   \n",
       "White Hall                    0.000000    0.466767         0.788748   \n",
       "Weill Hall                    0.466767    0.000000         0.330426   \n",
       "Riley-Robb Hall               0.788748    0.330426         0.000000   \n",
       "Plant Science Building        0.450476    0.100141         0.342828   \n",
       "Warren Hall                   0.430382    0.160390         0.382075   \n",
       "\n",
       "                            Plant Science Building  Warren Hall  ...  \\\n",
       "Morrison Hall                             0.416633     0.445776  ...   \n",
       "Physical Sciences Building                0.268815     0.244710  ...   \n",
       "Rockefeller Hall                          0.249718     0.240273  ...   \n",
       "Olin Hall                                 0.427648     0.455960  ...   \n",
       "Baker Laboratory                          0.278001     0.249645  ...   \n",
       "White Hall                                0.450476     0.430382  ...   \n",
       "Weill Hall                                0.100141     0.160390  ...   \n",
       "Riley-Robb Hall                           0.342828     0.382075  ...   \n",
       "Plant Science Building                    0.000000     0.062460  ...   \n",
       "Warren Hall                               0.062460     0.000000  ...   \n",
       "\n",
       "                            Kennedy Hall  Milstein Hall  Phillips Hall  \\\n",
       "Morrison Hall                   0.525352       0.804689       0.660057   \n",
       "Physical Sciences Building      0.178271       0.128547       0.373643   \n",
       "Rockefeller Hall                0.141969       0.177748       0.311421   \n",
       "Olin Hall                       0.320362       0.403243       0.137407   \n",
       "Baker Laboratory                0.193334       0.114992       0.394386   \n",
       "White Hall                      0.346524       0.110969       0.437094   \n",
       "Weill Hall                      0.123811       0.430561       0.283389   \n",
       "Riley-Robb Hall                 0.442967       0.734863       0.558520   \n",
       "Plant Science Building          0.118199       0.392041       0.366344   \n",
       "Warren Hall                     0.135632       0.359423       0.410154   \n",
       "\n",
       "                            Biotechnology  Klarman Hall  Uris Library  \\\n",
       "Morrison Hall                    0.464509      0.725549      0.828247   \n",
       "Physical Sciences Building       0.297855      0.082539      0.234214   \n",
       "Rockefeller Hall                 0.249907      0.061634      0.201613   \n",
       "Olin Hall                        0.313952      0.265707      0.173671   \n",
       "Baker Laboratory                 0.314952      0.097671      0.247618   \n",
       "White Hall                       0.447665      0.147961      0.172918   \n",
       "Weill Hall                       0.057498      0.319300      0.407981   \n",
       "Riley-Robb Hall                  0.369820      0.644056      0.737837   \n",
       "Plant Science Building           0.149587      0.311183      0.430111   \n",
       "Warren Hall                      0.204719      0.301198      0.434538   \n",
       "\n",
       "                            Anabel Taylor Hall  Sibley Hall  \\\n",
       "Morrison Hall                         0.837567     0.819629   \n",
       "Physical Sciences Building            0.396508     0.136246   \n",
       "Rockefeller Hall                      0.343565     0.176209   \n",
       "Olin Hall                             0.070338     0.380729   \n",
       "Baker Laboratory                      0.414730     0.126976   \n",
       "White Hall                            0.373643     0.078257   \n",
       "Weill Hall                            0.435951     0.435903   \n",
       "Riley-Robb Hall                       0.737609     0.746932   \n",
       "Plant Science Building                0.497965     0.404531   \n",
       "Warren Hall                           0.525991     0.376107   \n",
       "\n",
       "                            Schwartz Ctr Performing Arts  Bailey Hall  \n",
       "Morrison Hall                                   0.889184     0.586574  \n",
       "Physical Sciences Building                      0.559373     0.099358  \n",
       "Rockefeller Hall                                0.502183     0.087859  \n",
       "Olin Hall                                       0.221176     0.342415  \n",
       "Baker Laboratory                                0.578668     0.110959  \n",
       "White Hall                                      0.547018     0.280990  \n",
       "Weill Hall                                      0.529809     0.207164  \n",
       "Riley-Robb Hall                                 0.786296     0.511507  \n",
       "Plant Science Building                          0.610643     0.170022  \n",
       "Warren Hall                                     0.650349     0.153111  \n",
       "\n",
       "[10 rows x 46 columns]"
      ]
     },
     "metadata": {},
     "output_type": "display_data"
    }
   ],
   "source": [
    "# reads the room and building dist dfs\n",
    "rooms = (pd.read_csv('rooms.csv', index_col = 'room_id'))\n",
    "building_dist = (pd.read_csv('buildings_dist.csv', index_col = 0))\n",
    "display(rooms)\n",
    "display(building_dist.head(10))"
   ]
  },
  {
   "cell_type": "markdown",
   "metadata": {},
   "source": [
    "Finally, we are given the coenrollment matrix. This has one entry for each one of combination of prelims that have a coenrollment conflict, meaning that there is some number of students enrolled in both courses corresponding to the exams. Duplicates and conflicts that an exam has with itself have been dropped."
   ]
  },
  {
   "cell_type": "code",
   "execution_count": 6,
   "metadata": {},
   "outputs": [
    {
     "data": {
      "text/html": [
       "<div>\n",
       "<style scoped>\n",
       "    .dataframe tbody tr th:only-of-type {\n",
       "        vertical-align: middle;\n",
       "    }\n",
       "\n",
       "    .dataframe tbody tr th {\n",
       "        vertical-align: top;\n",
       "    }\n",
       "\n",
       "    .dataframe thead th {\n",
       "        text-align: right;\n",
       "    }\n",
       "</style>\n",
       "<table border=\"1\" class=\"dataframe\">\n",
       "  <thead>\n",
       "    <tr style=\"text-align: right;\">\n",
       "      <th></th>\n",
       "      <th>exam_id_1</th>\n",
       "      <th>course_1</th>\n",
       "      <th>exam_id_2</th>\n",
       "      <th>course_2</th>\n",
       "      <th>coenrollment</th>\n",
       "    </tr>\n",
       "  </thead>\n",
       "  <tbody>\n",
       "    <tr>\n",
       "      <th>0</th>\n",
       "      <td>1-AEM-2210-LEC-2634167-1</td>\n",
       "      <td>AEM 2210</td>\n",
       "      <td>1-AEM-2241-LEC-1001120-1</td>\n",
       "      <td>AEM 2241</td>\n",
       "      <td>5</td>\n",
       "    </tr>\n",
       "    <tr>\n",
       "      <th>1</th>\n",
       "      <td>1-AEM-2210-LEC-2634167-1</td>\n",
       "      <td>AEM 2210</td>\n",
       "      <td>1-AEM-2241-LEC-1001120-2</td>\n",
       "      <td>AEM 2241</td>\n",
       "      <td>5</td>\n",
       "    </tr>\n",
       "    <tr>\n",
       "      <th>2</th>\n",
       "      <td>1-AEM-2210-LEC-2634167-1</td>\n",
       "      <td>AEM 2210</td>\n",
       "      <td>1-AEM-2241-LEC-1001120-3</td>\n",
       "      <td>AEM 2241</td>\n",
       "      <td>5</td>\n",
       "    </tr>\n",
       "    <tr>\n",
       "      <th>3</th>\n",
       "      <td>1-AEM-2210-LEC-2634167-2</td>\n",
       "      <td>AEM 2210</td>\n",
       "      <td>1-AEM-2241-LEC-1001120-1</td>\n",
       "      <td>AEM 2241</td>\n",
       "      <td>5</td>\n",
       "    </tr>\n",
       "    <tr>\n",
       "      <th>4</th>\n",
       "      <td>1-AEM-2210-LEC-2634167-2</td>\n",
       "      <td>AEM 2210</td>\n",
       "      <td>1-AEM-2241-LEC-1001120-2</td>\n",
       "      <td>AEM 2241</td>\n",
       "      <td>5</td>\n",
       "    </tr>\n",
       "    <tr>\n",
       "      <th>...</th>\n",
       "      <td>...</td>\n",
       "      <td>...</td>\n",
       "      <td>...</td>\n",
       "      <td>...</td>\n",
       "      <td>...</td>\n",
       "    </tr>\n",
       "    <tr>\n",
       "      <th>5826</th>\n",
       "      <td>1-PHYS-2214-LEC-1017932-1</td>\n",
       "      <td>PHYS 2214</td>\n",
       "      <td>1-PHYS-2217-LEC-1009483-2</td>\n",
       "      <td>PHYS 2217</td>\n",
       "      <td>1</td>\n",
       "    </tr>\n",
       "    <tr>\n",
       "      <th>5827</th>\n",
       "      <td>1-PHYS-2214-LEC-1017932-2</td>\n",
       "      <td>PHYS 2214</td>\n",
       "      <td>1-PHYS-2217-LEC-1009483-1</td>\n",
       "      <td>PHYS 2217</td>\n",
       "      <td>1</td>\n",
       "    </tr>\n",
       "    <tr>\n",
       "      <th>5828</th>\n",
       "      <td>1-PHYS-2214-LEC-1017932-2</td>\n",
       "      <td>PHYS 2214</td>\n",
       "      <td>1-PHYS-2217-LEC-1009483-2</td>\n",
       "      <td>PHYS 2217</td>\n",
       "      <td>1</td>\n",
       "    </tr>\n",
       "    <tr>\n",
       "      <th>5829</th>\n",
       "      <td>1-PHYS-3318-LEC-2319573-1</td>\n",
       "      <td>PHYS 3318</td>\n",
       "      <td>1-PHYS-4443-LEC-1013508-1</td>\n",
       "      <td>PHYS 4443</td>\n",
       "      <td>10</td>\n",
       "    </tr>\n",
       "    <tr>\n",
       "      <th>5830</th>\n",
       "      <td>1-PHYS-3318-LEC-2319573-2</td>\n",
       "      <td>PHYS 3318</td>\n",
       "      <td>1-PHYS-4443-LEC-1013508-1</td>\n",
       "      <td>PHYS 4443</td>\n",
       "      <td>10</td>\n",
       "    </tr>\n",
       "  </tbody>\n",
       "</table>\n",
       "<p>5831 rows × 5 columns</p>\n",
       "</div>"
      ],
      "text/plain": [
       "                      exam_id_1   course_1                  exam_id_2  \\\n",
       "0      1-AEM-2210-LEC-2634167-1   AEM 2210   1-AEM-2241-LEC-1001120-1   \n",
       "1      1-AEM-2210-LEC-2634167-1   AEM 2210   1-AEM-2241-LEC-1001120-2   \n",
       "2      1-AEM-2210-LEC-2634167-1   AEM 2210   1-AEM-2241-LEC-1001120-3   \n",
       "3      1-AEM-2210-LEC-2634167-2   AEM 2210   1-AEM-2241-LEC-1001120-1   \n",
       "4      1-AEM-2210-LEC-2634167-2   AEM 2210   1-AEM-2241-LEC-1001120-2   \n",
       "...                         ...        ...                        ...   \n",
       "5826  1-PHYS-2214-LEC-1017932-1  PHYS 2214  1-PHYS-2217-LEC-1009483-2   \n",
       "5827  1-PHYS-2214-LEC-1017932-2  PHYS 2214  1-PHYS-2217-LEC-1009483-1   \n",
       "5828  1-PHYS-2214-LEC-1017932-2  PHYS 2214  1-PHYS-2217-LEC-1009483-2   \n",
       "5829  1-PHYS-3318-LEC-2319573-1  PHYS 3318  1-PHYS-4443-LEC-1013508-1   \n",
       "5830  1-PHYS-3318-LEC-2319573-2  PHYS 3318  1-PHYS-4443-LEC-1013508-1   \n",
       "\n",
       "       course_2  coenrollment  \n",
       "0      AEM 2241             5  \n",
       "1      AEM 2241             5  \n",
       "2      AEM 2241             5  \n",
       "3      AEM 2241             5  \n",
       "4      AEM 2241             5  \n",
       "...         ...           ...  \n",
       "5826  PHYS 2217             1  \n",
       "5827  PHYS 2217             1  \n",
       "5828  PHYS 2217             1  \n",
       "5829  PHYS 4443            10  \n",
       "5830  PHYS 4443            10  \n",
       "\n",
       "[5831 rows x 5 columns]"
      ]
     },
     "execution_count": 6,
     "metadata": {},
     "output_type": "execute_result"
    }
   ],
   "source": [
    "# read the coenrollment df\n",
    "coenrollments = (pd.read_csv('coenrollment_s21_prelims.csv'))\n",
    "# only keep the exams where there are students in common\n",
    "coenrollments = coenrollments[coenrollments.coenrollment != 0]\n",
    "coenrollments"
   ]
  },
  {
   "cell_type": "markdown",
   "metadata": {},
   "source": [
    "## Variables"
   ]
  },
  {
   "cell_type": "markdown",
   "metadata": {},
   "source": [
    "We are now ready to start defining our model. We first create binary variables $y$ to indicate whether a prelim has been assigned to a specific day/time. So we want to have binary $y(i,d,k)$ for all $i \\in I, d \\in P_i, k \\in K$. Notice we only create the variables $y$ for days that are in the three prefered days of the exam $i$."
   ]
  },
  {
   "cell_type": "code",
   "execution_count": 7,
   "metadata": {},
   "outputs": [],
   "source": [
    "m = pywraplp.Solver.CreateSolver('SCIP_MIXED_INTEGER_PROGRAMMING')"
   ]
  },
  {
   "cell_type": "markdown",
   "metadata": {},
   "source": [
    "Before you start creating the variables, in the cell bellow you can find some pythons expressions that you might find usefull in creating the sets of indices you need."
   ]
  },
  {
   "cell_type": "code",
   "execution_count": 8,
   "metadata": {},
   "outputs": [
    {
     "data": {
      "text/plain": [
       "['1-AEM-2210-LEC-2634167-1',\n",
       " '1-AEM-2210-LEC-2634167-2',\n",
       " '1-AEM-2225-LEC-2634167-1',\n",
       " '1-AEM-2225-LEC-2634167-2',\n",
       " '1-AEM-2240-LEC-3778494-1',\n",
       " '1-AEM-2240-LEC-3778494-2',\n",
       " '1-AEM-2241-LEC-1001120-1',\n",
       " '1-AEM-2241-LEC-1001120-2',\n",
       " '1-AEM-2241-LEC-1001120-3',\n",
       " '1-AEM-2300-LEC-1000205-1',\n",
       " '1-AEM-2300-LEC-1000205-2',\n",
       " '1-AEM-2770-LEC-1023161-1',\n",
       " '1-AEM-3100-LEC-1008805-1',\n",
       " '1-AEM-3230-LEC-2041935-1',\n",
       " '1-AEM-3230-LEC-2041935-2',\n",
       " '1-AEM-3370-LEC-3225389-1',\n",
       " '1-AEM-3370-LEC-3225389-2',\n",
       " '1-AEM-3370-LEC-3225389-3',\n",
       " '1-AEM-4280-LEC-1281313-1',\n",
       " '1-AEM-4280-LEC-1281313-2']"
      ]
     },
     "metadata": {},
     "output_type": "display_data"
    },
    {
     "name": "stdout",
     "output_type": "stream",
     "text": [
      "['2021-04-13', '2021-04-08', '2021-04-15']\n"
     ]
    }
   ],
   "source": [
    "# the set of the prelims to schedule are the indices of the dataframe\n",
    "I = exams.index.tolist()\n",
    "display(I[0:20])\n",
    "i = I[5]\n",
    "# this is one of the ways to get the prefered days of i\n",
    "print(exams.loc[i, ['prefdate','prefdate2','prefdate3']].tolist())"
   ]
  },
  {
   "cell_type": "code",
   "execution_count": 9,
   "metadata": {},
   "outputs": [],
   "source": [
    "# defining the y variables\n",
    "# remember we only have 2 slots per day, so K is set to 2\n",
    "K = 2\n",
    "y =  {(i,d,k):m.IntVar(0, 1, 'y'+str([i,d,k])) \n",
    "      for i in I for d in exams.loc[i, ['prefdate','prefdate2','prefdate3']].tolist() \n",
    "      for k in range(K)}"
   ]
  },
  {
   "cell_type": "markdown",
   "metadata": {},
   "source": [
    "Next, since we want to assign one or more rooms to each exam, we would want to create binary variables to indicate whether a room is selected for the exam or not. We would create one variable $x(i,r,d,k)$ for each $i \\in I, r \\in N, d \\in P_i, k \\in K$. Use the cell bellow to count and print how many of the $x$ variables we would need to create."
   ]
  },
  {
   "cell_type": "code",
   "execution_count": 10,
   "metadata": {},
   "outputs": [
    {
     "data": {
      "text/plain": [
       "124200"
      ]
     },
     "execution_count": 10,
     "metadata": {},
     "output_type": "execute_result"
    }
   ],
   "source": [
    "num_new_vars = len(exams.index)*len(rooms.index)*3*2\n",
    "num_new_vars"
   ]
  },
  {
   "cell_type": "markdown",
   "metadata": {},
   "source": [
    "You probably found out that we would need to create a very large number of $x$ variables. Since in the next steps, we will be using those variables for constraints, we would end up with a very large model. In order to bypass that, instead of using the actual rooms, we will use room buckets, which will be read from a file in the next cell. Suppose the set of room buckets is $R$ and $rb \\in R$ is a room bucket. For every $rb$, there is a quantity $n_{rb}$, which will denote the number of rooms that are in that room bucket. This means that we have $n_{rb}$ rooms of size $rb$ available. You might notice that we create a room bucket of size zero, and number of rooms equal to the number of exams. That is done so we can assign all the online exams to that bucket, and that is why we set the enrollments to zero. So now instead of assigning exams to rooms, we will assign exams to room buckets, which act as a proxy for rooms."
   ]
  },
  {
   "cell_type": "code",
   "execution_count": 13,
   "metadata": {},
   "outputs": [
    {
     "data": {
      "text/plain": [
       "{10: 7, 20: 41, 30: 20, 50: 13, 80: 8, 130: 1, 0: 230}"
      ]
     },
     "execution_count": 13,
     "metadata": {},
     "output_type": "execute_result"
    }
   ],
   "source": [
    "# read the room buckets\n",
    "room_buckets = (pd.read_csv('room_buckets.csv')\n",
    "             .reset_index().set_index('bucket_size').to_dict()['num_rooms'])\n",
    "room_buckets[0] = exams.shape[0]\n",
    "room_buckets"
   ]
  },
  {
   "cell_type": "markdown",
   "metadata": {},
   "source": [
    "In the dictionary we just read, the keys are the set $R$, which makes things easier since the keys are also equal to the size of the room bucket, and the values are equal to $n_{rb}$. \n",
    "So `room_buckets[50] = 13`, means that we have $13$ rooms of size $50$ available. This will make things easier in our model, since instead of creating variables $x$ for every room, we want to create them for every room bucket, so the number of $x$ variables will drop a lot in size. Use the cell bellow to create the $x(i,rb,d,k)$ for each $i \\in I, rb \\in R, d \\in P_i, k \\in K$. Notice that now $x$ will denote the *number* of rooms of size $rb$ that we use for exam $i$, so it will be an integer variable instead of binary. Also notice that we have a room bucket of size $0$ and number of rooms the number of exams. A room of size zero might not seem useful, but we can use those rooms to schedule the online exams(recall we changed their enrollment to zero)."
   ]
  },
  {
   "cell_type": "code",
   "execution_count": 38,
   "metadata": {},
   "outputs": [],
   "source": [
    "# define variables x here\n",
    "x={}\n",
    "x =  {(i,rb,d,k):m.IntVar(0, m.infinity(), 'x'+str([i,rb,d,k])) \n",
    "      for i in I for rb in room_buckets for d in exams.loc[i, ['prefdate','prefdate2','prefdate3']].tolist() \n",
    "      for k in range(K)}"
   ]
  },
  {
   "cell_type": "markdown",
   "metadata": {},
   "source": [
    "Finally, for every exam, we will create a variable $z(i), \\forall i \\in I$, which is meant to store the total number of rooms used for that exam, which can be across different room buckets. While it might not be immediately clear why we need these variables, we will later use them to ensure that the total number of rooms used is not too large. "
   ]
  },
  {
   "cell_type": "code",
   "execution_count": 39,
   "metadata": {},
   "outputs": [],
   "source": [
    "# define variables z here\n",
    "z={}\n",
    "z =  {(i):m.IntVar(0, m.infinity(), 'z'+str([i])) \n",
    "      for i in I}"
   ]
  },
  {
   "cell_type": "markdown",
   "metadata": {},
   "source": [
    "It is worth mentioning that since we are using room buckets now, a solution to the integer program we are creating will not give us both the day/time and rooms used for every exam. The idea is to use this program to find good day/time combinations, and ensure that we have enough rooms for each day/time by not using more than are avaible in the room buckets. After we have the exam to day/time assignment, we can then make a different integer program that will run on each slot and find \"good\" room assignments for the exams of that slot. We can use the objective function of that program to define what a \"good\" assignment satisfies. However for this lab, we only focus on finding a day/time assignment for the exams."
   ]
  },
  {
   "cell_type": "markdown",
   "metadata": {},
   "source": [
    "## Constraints"
   ]
  },
  {
   "cell_type": "markdown",
   "metadata": {},
   "source": [
    "We can now start thinking about what constraints our model should have. For each constraint, we will first be describing what the constraint is meant to express/accomplish, then give the mathematical formulation of the constraint using the variables we have already defined, and finally you will have to code it in python."
   ]
  },
  {
   "cell_type": "markdown",
   "metadata": {},
   "source": [
    "#### $Z(i)$ and maximum number of rooms constraints"
   ]
  },
  {
   "cell_type": "markdown",
   "metadata": {},
   "source": [
    "First remember that we wanted the variables $z(i)$ to correctly count the total number of rooms across all roombuckets assigned to an exam. To ensure that we want to create the appropriate constraint. We will also set an upper bound $R$ for the variables $z(i)$, that is limit the maximum number of rooms that an exam can be assigned to. So we have \n",
    "<center>\n",
    "$z(i) = \\sum\\limits_{\\substack{rb \\in B\\\\ d \\in P_i \\\\ k \\in K}} x(i,rb,d,k),  \\forall i \\in I $ <br> <br>\n",
    " $z(i) \\leq R, \\forall i \\in I$\n"
   ]
  },
  {
   "cell_type": "code",
   "execution_count": 44,
   "metadata": {},
   "outputs": [],
   "source": [
    "# the z constraint\n",
    "for i in I:\n",
    "    m.Add(z[i] == sum(x[i,rb,d,k] \n",
    "                    for rb in room_buckets \n",
    "                    for d in exams.loc[i, ['prefdate','prefdate2','prefdate3']].tolist() \n",
    "                    for k in range(K)))\n",
    "# code the maximum number of rooms constraints\n",
    "R = 10 # defining max number of rooms R\n",
    "for i in I:\n",
    "    m.Add(z[i] <= R)"
   ]
  },
  {
   "cell_type": "markdown",
   "metadata": {},
   "source": [
    "If you would like to check the size of your integer program as we add more constraints to it, you can use the `NumVariables()` and  `NumConstraints()` methods of solver to check the number of variables and constraints in the model."
   ]
  },
  {
   "cell_type": "code",
   "execution_count": 45,
   "metadata": {},
   "outputs": [
    {
     "name": "stdout",
     "output_type": "stream",
     "text": [
      "Number of variables: 40710\n",
      "Number of constraints: 1380\n"
     ]
    }
   ],
   "source": [
    "print(f'Number of variables: {m.NumVariables()}')\n",
    "print(f'Number of constraints: {m.NumConstraints()}')"
   ]
  },
  {
   "cell_type": "markdown",
   "metadata": {},
   "source": [
    "#### Prelim assigned unique slot constraint"
   ]
  },
  {
   "cell_type": "markdown",
   "metadata": {},
   "source": [
    "Next we need a constraint to ensure that only $1$ of the $y$ variables corresponding to an exam can be non-zero, or in other words ensure that each exam is assigned to a unique day/time combination. <br><br>\n",
    "<center>\n",
    " $\\sum\\limits_{\\substack{d \\in P_i \\\\ k \\in K}} y(i,d,k) =1, \\forall i \\in I$"
   ]
  },
  {
   "cell_type": "code",
   "execution_count": 49,
   "metadata": {},
   "outputs": [],
   "source": [
    "# code the unique slot constraint\n",
    "for i in I:\n",
    "    m.Add(1 == sum(y[i, d, k] for d in exams.loc[i, ['prefdate','prefdate2','prefdate3']].tolist() \n",
    "                    for k in range(K)))\n",
    "         "
   ]
  },
  {
   "cell_type": "markdown",
   "metadata": {},
   "source": [
    "#### Respecting the room bucket size for each slot"
   ]
  },
  {
   "cell_type": "markdown",
   "metadata": {},
   "source": [
    "For every slot we do not want to go over the number of rooms that is available for a room bucket, \n",
    "<center>\n",
    "    $\\sum\\limits_{i\\in I:d \\in P_i} x(i,rb,d,k) \\le n_{rb}, \\forall rb \\in B, d \\in D, k \\in K$\n",
    "<br> <br>\n",
    "    \n",
    "*Hint*: When you iterate over multiple sets, to make your code look cleaner, you can use `itertools.product()` as is done in the cell bellow."
   ]
  },
  {
   "cell_type": "code",
   "execution_count": 56,
   "metadata": {},
   "outputs": [],
   "source": [
    "# code the respecting room bucket size constraint\n",
    "for rb,d,k in itertools.product(room_buckets, exam_dates, range(K)):\n",
    "    m.Add(sum(x[i, rb, d, k] for i in I for d in exams.loc[i, ['prefdate','prefdate2','prefdate3']].tolist()) \n",
    "          <= room_buckets[rb])"
   ]
  },
  {
   "cell_type": "markdown",
   "metadata": {},
   "source": [
    "#### Exams only using the room the day that it is assigned to them"
   ]
  },
  {
   "cell_type": "markdown",
   "metadata": {},
   "source": [
    "We need a constraint to ensure that the $x$ variables can only have a non-zero value when the $y$ variable of the exam is $1$ <br><br>\n",
    "<center>\n",
    "    $ x(i,rb,d,k) \\leq R y(i,d,k),\\ \\forall i \\in I, d \\in P_i, k \\in K, rb \\in B$"
   ]
  },
  {
   "cell_type": "code",
   "execution_count": 59,
   "metadata": {},
   "outputs": [],
   "source": [
    "# code the room use on assigned day constraint\n",
    "for i in I:\n",
    "    for d in exams.loc[i, ['prefdate','prefdate2','prefdate3']].tolist():\n",
    "        for k in range(K):\n",
    "            for rb in room_buckets:\n",
    "                m.Add(x[i, rb, d, k] <= R*y[i, d, k])"
   ]
  },
  {
   "cell_type": "markdown",
   "metadata": {},
   "source": [
    "#### Exams must be given enough seats"
   ]
  },
  {
   "cell_type": "markdown",
   "metadata": {},
   "source": [
    "Every exam should be giving enough seats for the number of students taking. <br><br>\n",
    "<center>\n",
    "$$\n",
    "\\sum_{\\substack{rb \\in B\\\\ d \\in P_i \\\\ k \\in K}} s_{rb} x(i,rb,d,k) \\geq s_i, \\forall i \\in I$$"
   ]
  },
  {
   "cell_type": "code",
   "execution_count": 64,
   "metadata": {},
   "outputs": [
    {
     "ename": "AttributeError",
     "evalue": "'Series' object has no attribute 'AddSelfToCoeffMapOrStack'",
     "output_type": "error",
     "traceback": [
      "\u001b[1;31m---------------------------------------------------------------------------\u001b[0m",
      "\u001b[1;31mAttributeError\u001b[0m                            Traceback (most recent call last)",
      "\u001b[1;32m~\\AppData\\Local\\Temp\\ipykernel_18832\\2168850850.py\u001b[0m in \u001b[0;36m<module>\u001b[1;34m\u001b[0m\n\u001b[0;32m      3\u001b[0m     m.Add(sum((rb*room_buckets[rb])*x[i, rb, d, k] for rb in room_buckets \n\u001b[0;32m      4\u001b[0m               \u001b[1;32mfor\u001b[0m \u001b[0md\u001b[0m \u001b[1;32min\u001b[0m \u001b[0mexams\u001b[0m\u001b[1;33m.\u001b[0m\u001b[0mloc\u001b[0m\u001b[1;33m[\u001b[0m\u001b[0mi\u001b[0m\u001b[1;33m,\u001b[0m \u001b[1;33m[\u001b[0m\u001b[1;34m'prefdate'\u001b[0m\u001b[1;33m,\u001b[0m\u001b[1;34m'prefdate2'\u001b[0m\u001b[1;33m,\u001b[0m\u001b[1;34m'prefdate3'\u001b[0m\u001b[1;33m]\u001b[0m\u001b[1;33m]\u001b[0m\u001b[1;33m.\u001b[0m\u001b[0mtolist\u001b[0m\u001b[1;33m(\u001b[0m\u001b[1;33m)\u001b[0m\u001b[1;33m\u001b[0m\u001b[1;33m\u001b[0m\u001b[0m\n\u001b[1;32m----> 5\u001b[1;33m               for k in range(K)) >= exams.loc[i, ['enrollment']])\n\u001b[0m",
      "\u001b[1;32m~\\.conda\\envs\\orie_3310\\lib\\site-packages\\ortools\\linear_solver\\pywraplp.py\u001b[0m in \u001b[0;36mAdd\u001b[1;34m(self, constraint, name)\u001b[0m\n\u001b[0;32m    254\u001b[0m           \u001b[1;32mreturn\u001b[0m \u001b[0mself\u001b[0m\u001b[1;33m.\u001b[0m\u001b[0mRowConstraint\u001b[0m\u001b[1;33m(\u001b[0m\u001b[1;36m1\u001b[0m\u001b[1;33m,\u001b[0m \u001b[1;36m1\u001b[0m\u001b[1;33m,\u001b[0m \u001b[0mname\u001b[0m\u001b[1;33m)\u001b[0m\u001b[1;33m\u001b[0m\u001b[1;33m\u001b[0m\u001b[0m\n\u001b[0;32m    255\u001b[0m       \u001b[1;32melse\u001b[0m\u001b[1;33m:\u001b[0m\u001b[1;33m\u001b[0m\u001b[1;33m\u001b[0m\u001b[0m\n\u001b[1;32m--> 256\u001b[1;33m         \u001b[1;32mreturn\u001b[0m \u001b[0mconstraint\u001b[0m\u001b[1;33m.\u001b[0m\u001b[0mExtract\u001b[0m\u001b[1;33m(\u001b[0m\u001b[0mself\u001b[0m\u001b[1;33m,\u001b[0m \u001b[0mname\u001b[0m\u001b[1;33m)\u001b[0m\u001b[1;33m\u001b[0m\u001b[1;33m\u001b[0m\u001b[0m\n\u001b[0m\u001b[0;32m    257\u001b[0m \u001b[1;33m\u001b[0m\u001b[0m\n\u001b[0;32m    258\u001b[0m     \u001b[1;32mdef\u001b[0m \u001b[0mSum\u001b[0m\u001b[1;33m(\u001b[0m\u001b[0mself\u001b[0m\u001b[1;33m,\u001b[0m \u001b[0mexpr_array\u001b[0m\u001b[1;33m)\u001b[0m\u001b[1;33m:\u001b[0m\u001b[1;33m\u001b[0m\u001b[1;33m\u001b[0m\u001b[0m\n",
      "\u001b[1;32m~\\.conda\\envs\\orie_3310\\lib\\site-packages\\ortools\\linear_solver\\linear_solver_natural_api.py\u001b[0m in \u001b[0;36mExtract\u001b[1;34m(self, solver, name)\u001b[0m\n\u001b[0;32m    250\u001b[0m   \u001b[1;32mdef\u001b[0m \u001b[0mExtract\u001b[0m\u001b[1;33m(\u001b[0m\u001b[0mself\u001b[0m\u001b[1;33m,\u001b[0m \u001b[0msolver\u001b[0m\u001b[1;33m,\u001b[0m \u001b[0mname\u001b[0m\u001b[1;33m=\u001b[0m\u001b[1;34m''\u001b[0m\u001b[1;33m)\u001b[0m\u001b[1;33m:\u001b[0m\u001b[1;33m\u001b[0m\u001b[1;33m\u001b[0m\u001b[0m\n\u001b[0;32m    251\u001b[0m     \u001b[1;34m\"\"\"Performs the actual creation of the constraint object.\"\"\"\u001b[0m\u001b[1;33m\u001b[0m\u001b[1;33m\u001b[0m\u001b[0m\n\u001b[1;32m--> 252\u001b[1;33m     \u001b[0mcoeffs\u001b[0m \u001b[1;33m=\u001b[0m \u001b[0mself\u001b[0m\u001b[1;33m.\u001b[0m\u001b[0m__expr\u001b[0m\u001b[1;33m.\u001b[0m\u001b[0mGetCoeffs\u001b[0m\u001b[1;33m(\u001b[0m\u001b[1;33m)\u001b[0m\u001b[1;33m\u001b[0m\u001b[1;33m\u001b[0m\u001b[0m\n\u001b[0m\u001b[0;32m    253\u001b[0m     \u001b[0mconstant\u001b[0m \u001b[1;33m=\u001b[0m \u001b[0mcoeffs\u001b[0m\u001b[1;33m.\u001b[0m\u001b[0mpop\u001b[0m\u001b[1;33m(\u001b[0m\u001b[0mOFFSET_KEY\u001b[0m\u001b[1;33m,\u001b[0m \u001b[1;36m0.0\u001b[0m\u001b[1;33m)\u001b[0m\u001b[1;33m\u001b[0m\u001b[1;33m\u001b[0m\u001b[0m\n\u001b[0;32m    254\u001b[0m     \u001b[0mlb\u001b[0m \u001b[1;33m=\u001b[0m \u001b[1;33m-\u001b[0m\u001b[0msolver\u001b[0m\u001b[1;33m.\u001b[0m\u001b[0minfinity\u001b[0m\u001b[1;33m(\u001b[0m\u001b[1;33m)\u001b[0m\u001b[1;33m\u001b[0m\u001b[1;33m\u001b[0m\u001b[0m\n",
      "\u001b[1;32m~\\.conda\\envs\\orie_3310\\lib\\site-packages\\ortools\\linear_solver\\linear_solver_natural_api.py\u001b[0m in \u001b[0;36mGetCoeffs\u001b[1;34m(self)\u001b[0m\n\u001b[0;32m     97\u001b[0m     \u001b[1;32mwhile\u001b[0m \u001b[0mstack\u001b[0m\u001b[1;33m:\u001b[0m\u001b[1;33m\u001b[0m\u001b[1;33m\u001b[0m\u001b[0m\n\u001b[0;32m     98\u001b[0m       \u001b[0mcurrent_multiplier\u001b[0m\u001b[1;33m,\u001b[0m \u001b[0mcurrent_expression\u001b[0m \u001b[1;33m=\u001b[0m \u001b[0mstack\u001b[0m\u001b[1;33m.\u001b[0m\u001b[0mpop\u001b[0m\u001b[1;33m(\u001b[0m\u001b[1;33m)\u001b[0m\u001b[1;33m\u001b[0m\u001b[1;33m\u001b[0m\u001b[0m\n\u001b[1;32m---> 99\u001b[1;33m       current_expression.AddSelfToCoeffMapOrStack(coeffs, current_multiplier,\n\u001b[0m\u001b[0;32m    100\u001b[0m                                                   stack)\n\u001b[0;32m    101\u001b[0m     \u001b[1;32mreturn\u001b[0m \u001b[0mcoeffs\u001b[0m\u001b[1;33m\u001b[0m\u001b[1;33m\u001b[0m\u001b[0m\n",
      "\u001b[1;32m~\\.conda\\envs\\orie_3310\\lib\\site-packages\\pandas\\core\\generic.py\u001b[0m in \u001b[0;36m__getattr__\u001b[1;34m(self, name)\u001b[0m\n\u001b[0;32m   5137\u001b[0m             \u001b[1;32mif\u001b[0m \u001b[0mself\u001b[0m\u001b[1;33m.\u001b[0m\u001b[0m_info_axis\u001b[0m\u001b[1;33m.\u001b[0m\u001b[0m_can_hold_identifiers_and_holds_name\u001b[0m\u001b[1;33m(\u001b[0m\u001b[0mname\u001b[0m\u001b[1;33m)\u001b[0m\u001b[1;33m:\u001b[0m\u001b[1;33m\u001b[0m\u001b[1;33m\u001b[0m\u001b[0m\n\u001b[0;32m   5138\u001b[0m                 \u001b[1;32mreturn\u001b[0m \u001b[0mself\u001b[0m\u001b[1;33m[\u001b[0m\u001b[0mname\u001b[0m\u001b[1;33m]\u001b[0m\u001b[1;33m\u001b[0m\u001b[1;33m\u001b[0m\u001b[0m\n\u001b[1;32m-> 5139\u001b[1;33m             \u001b[1;32mreturn\u001b[0m \u001b[0mobject\u001b[0m\u001b[1;33m.\u001b[0m\u001b[0m__getattribute__\u001b[0m\u001b[1;33m(\u001b[0m\u001b[0mself\u001b[0m\u001b[1;33m,\u001b[0m \u001b[0mname\u001b[0m\u001b[1;33m)\u001b[0m\u001b[1;33m\u001b[0m\u001b[1;33m\u001b[0m\u001b[0m\n\u001b[0m\u001b[0;32m   5140\u001b[0m \u001b[1;33m\u001b[0m\u001b[0m\n\u001b[0;32m   5141\u001b[0m     \u001b[1;32mdef\u001b[0m \u001b[0m__setattr__\u001b[0m\u001b[1;33m(\u001b[0m\u001b[0mself\u001b[0m\u001b[1;33m,\u001b[0m \u001b[0mname\u001b[0m\u001b[1;33m:\u001b[0m \u001b[0mstr\u001b[0m\u001b[1;33m,\u001b[0m \u001b[0mvalue\u001b[0m\u001b[1;33m)\u001b[0m \u001b[1;33m->\u001b[0m \u001b[1;32mNone\u001b[0m\u001b[1;33m:\u001b[0m\u001b[1;33m\u001b[0m\u001b[1;33m\u001b[0m\u001b[0m\n",
      "\u001b[1;31mAttributeError\u001b[0m: 'Series' object has no attribute 'AddSelfToCoeffMapOrStack'"
     ]
    }
   ],
   "source": [
    "# code the exam seat constraint\n",
    "for i in I:\n",
    "    m.Add(sum((rb*room_buckets[rb])*x[i, rb, d, k] for rb in room_buckets \n",
    "              for d in exams.loc[i, ['prefdate','prefdate2','prefdate3']].tolist()\n",
    "              for k in range(K)) >= exams.loc[i, ['enrollment']])"
   ]
  },
  {
   "cell_type": "markdown",
   "metadata": {},
   "source": [
    "#### Coenrollment conflict constraints"
   ]
  },
  {
   "cell_type": "markdown",
   "metadata": {},
   "source": [
    "Recall the coenrollment dataframe we created before. "
   ]
  },
  {
   "cell_type": "code",
   "execution_count": null,
   "metadata": {},
   "outputs": [],
   "source": [
    "coenrollments"
   ]
  },
  {
   "cell_type": "markdown",
   "metadata": {},
   "source": [
    "In this dataframe, we are given pairs of exams that have students in common. The coenrollment column has the number of students in common. Ideally we want to avoid scheduling exams at the same time, when there are a lot of students that need to take both exams. To accomplish that, we will add *coenrollment conflict* constraints to the model. We will create a variable for every pair of exams that appear in the dataframe, if they also have an overlap in their prefered days, as otherwise there would be no option to schedule them at the same time. We will use those variables to disincentivize scheduling the two exams at the same time, by adding a cost proportional to the number of students in common in the objective function.\n",
    "We will be considering conflicts where we have more than $T$ students in common.\n",
    "<br>\n",
    "<br>\n",
    "Suppose $CE$ is the set of pairs of exams that have more than $T$ students in common. So for any $(i,i') \\in CE$ we want to create a binary variable $c(i,i')$, and if $i,i'$ also have an overlap in their prefered days, add a constraint to make $c(i,i')$ equal to $1$ if the exams $i,i'$ were scheduled at the same day/slot. This will be ensured by the following constraint:   <br><br>\n",
    "<center>\n",
    "$$\n",
    "y(i,d,k) + y(i',d,k) -1 \\le c(i,i'),\\ (i,i')\\in CE, d \\in P_i \\cap P_{i'}, k \\in K\n",
    "$$\n",
    "\n",
    "*Hint:* You might find the python `set` object and the [`intersection()`](https://docs.python.org/2/library/sets.html#set-objects) method useful."
   ]
  },
  {
   "cell_type": "code",
   "execution_count": null,
   "metadata": {},
   "outputs": [],
   "source": [
    "# code the coenrollment conflicts constraints here\n",
    "T = 2\n",
    "# creating the set CE that was described above\n",
    "tmp = coenrollments[coenrollments.coenrollment >= T][['exam_id_1','exam_id_2']]\n",
    "CE = []\n",
    "for index,row in tmp.iterrows():\n",
    "    CE.append((row.exam_id_1,row.exam_id_2))\n",
    "\n",
    "# defining c variables \n",
    "c =  {(i,i_prime):m.IntVar(0, 1, f'c{i,i_prime}') \n",
    "      for i,i_prime in CE}\n",
    "\n",
    "# add the coenrollment conflict constraints \n",
    "raise ValueError('Replace this line with your code answer')"
   ]
  },
  {
   "cell_type": "markdown",
   "metadata": {},
   "source": [
    "## Objective function"
   ]
  },
  {
   "cell_type": "markdown",
   "metadata": {},
   "source": [
    "Before solving the model, the last thing we have to do is add the objective function. There are some things we are interested in minimizing in this model, and that should be accounted for in the objective function.\n",
    "1. The total number of rooms used, across all prelims. \n",
    "2. We would like for as many classes as possible to get their first prefered date, and if not then their second one.\n",
    "3. The total number of students that end up being involved in coenrollment conflicts."
   ]
  },
  {
   "cell_type": "markdown",
   "metadata": {},
   "source": [
    "  For 1. we can include the summation of the $z$ variables in the objective function to try to keep the total number of rooms to a minimum. So one term in the objective function will be <br>\n",
    "  \n",
    "  $$ \\sum_{i\\in I} z(i) $$\n",
    "  \n",
    "  \n",
    "  For 2. we will use the $y$ variables in the objective function. Because ideally every class would get their first choice, assigning a class to their first choice should not incur a penalty in the objective function. Since we prefer the second choice over the third, the penalty for the second one should be smaller than the one for the third one. So we assign $wd_2 = 2$ and $wd_3 = 3$ as the weights for the variables associated with the second and third choice respectively. Then the term in the objective function will be: <br><br>\n",
    "$$ \\sum_{\\substack{i \\in I\\\\ k \\in K}}wd_2 y(i,p_{i,2},k) +  \\sum_{\\substack{i \\in I\\\\ k \\in K}}wd_3 y(i,p_{i,3},k)$$  \n",
    "   Finally for 3. we will use the $c$ variables, as they were created to indicate when a coenrollment conflict occurs. As for the weights for the $c$ variables $wc$, we use the dataframe to assign weight equal to the number of students in common minus $T$, so we get the number of students over the threshold that are involved in the conflict. So we get: \n",
    "      <br><br>\n",
    "$$\\sum_{\\substack{i,i' \\in C\\\\}}wc_{i,i'} c(i,i')$$"
   ]
  },
  {
   "cell_type": "code",
   "execution_count": null,
   "metadata": {},
   "outputs": [],
   "source": [
    "# add the 3 terms described above to the objective function\n",
    "# one term for the sumation of the z variables\n",
    "# one term for the weighted number of classes that got their 2nd or 3rd preference\n",
    "# one term to account for the number of students with coenrollment conflicts\n",
    "wd_2 = 2\n",
    "wd_3 = 3\n",
    "m.Minimize(sum(z[i] for i in I) +\n",
    "    sum(wd_2 * y[i,exams.loc[i, ['prefdate2']][0],k] for i in I for k in range(K)) + \n",
    "    sum(wd_3 * y[i,exams.loc[i, ['prefdate3']][0],k] for i in I for k in range(K)) +\n",
    "    sum((coenrollments[(coenrollments.exam_id_1 == i)&\n",
    "        (coenrollments.exam_id_2 == i_prime)].coenrollment.item()-T)*c[i,i_prime] \n",
    "        for i,i_prime in CE)\n",
    ")"
   ]
  },
  {
   "cell_type": "markdown",
   "metadata": {},
   "source": [
    "We can now solve the model and recover the assignment of exams to days/slots."
   ]
  },
  {
   "cell_type": "code",
   "execution_count": null,
   "metadata": {},
   "outputs": [],
   "source": [
    "### the next 3 lines are changing what the stopping point is for the IP solver\n",
    "# instead of stopping when an optimal solution is found, now it will stop at a solution that is \n",
    "# withing 5% of the best bound at any given point\n",
    "gap = 0.05\n",
    "solverParams = pywraplp.MPSolverParameters()\n",
    "solverParams.SetDoubleParam(pywraplp.MPSolverParameters().RELATIVE_MIP_GAP, gap)\n",
    "# this line changes the maximum amount of time the model will run\n",
    "# if an optimal solution has not been found by then, it returns the current best solution\n",
    "# in the interest of saving time, we allow the model to run for only 2 minutes\n",
    "m.set_time_limit(60*1000) \n",
    "m.Solve(solverParams)\n",
    "print('Objective =',m.Objective().Value())\n",
    "print(f'Solution:')\n",
    "for v in m.variables():\n",
    "    if v.solution_value() > 0:\n",
    "        print(v.name(), v.solution_value())"
   ]
  },
  {
   "cell_type": "markdown",
   "metadata": {},
   "source": [
    "We can see all the values of the variables, but that alone is not helpful. We would like to find what days/times the exams got assigned to, since that was what this model was meant to solve. To do so we will look at the $y$ variables that have value 1, and then store their indicies."
   ]
  },
  {
   "cell_type": "code",
   "execution_count": null,
   "metadata": {},
   "outputs": [],
   "source": [
    "# stores the indices of y variables that have value 1 in a list called schedule\n",
    "from ast import literal_eval\n",
    "schedule = [literal_eval(v.name()[1:]) for v in m.variables() if v.name()[0] == 'y' and v.solution_value() == 1]\n",
    "schedule_df = pd.DataFrame(schedule, columns = ['exam_id', 'date', 'slot'])\n",
    "schedule_df"
   ]
  },
  {
   "cell_type": "markdown",
   "metadata": {},
   "source": [
    "This gives us an assignment of exams to date and slot."
   ]
  }
 ],
 "metadata": {
  "kernelspec": {
   "display_name": "Python 3 (ipykernel)",
   "language": "python",
   "name": "python3"
  },
  "language_info": {
   "codemirror_mode": {
    "name": "ipython",
    "version": 3
   },
   "file_extension": ".py",
   "mimetype": "text/x-python",
   "name": "python",
   "nbconvert_exporter": "python",
   "pygments_lexer": "ipython3",
   "version": "3.7.16"
  }
 },
 "nbformat": 4,
 "nbformat_minor": 4
}
